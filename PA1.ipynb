{
 "cells": [
  {
   "cell_type": "markdown",
   "id": "d6282d35",
   "metadata": {},
   "source": [
    "# Computer Prog for Liberal Arts\n",
    "> PA1, Paul Hyden, FA22"
   ]
  },
  {
   "cell_type": "markdown",
   "id": "ea58d3e2",
   "metadata": {},
   "source": [
    "## Getting Started with markdown"
   ]
  },
  {
   "cell_type": "markdown",
   "id": "3b1e7613",
   "metadata": {},
   "source": [
    "> I am excited to learn more about coding"
   ]
  },
  {
   "cell_type": "markdown",
   "id": "61585c3a",
   "metadata": {},
   "source": [
    "#### Chapters\n",
    "* Chapter 2\n",
    "* Chapter 3 and 4\n",
    "* Chapter 5\n",
    "* Chapter 6\n",
    "* Chapter 7\n",
    "* Chapter 8\n"
   ]
  },
  {
   "cell_type": "markdown",
   "id": "d69fe767",
   "metadata": {},
   "source": [
    "#### Assignments\n",
    "1. Assignment 1\n",
    "2. Assignment 2\n",
    "3. Assignment 3\n",
    "4. Assignment 4\n",
    "5. Assignment 5\n",
    "6. Assignment 6\n"
   ]
  },
  {
   "cell_type": "markdown",
   "id": "2f5805b9",
   "metadata": {},
   "source": [
    "**My name is Paul Hyden**"
   ]
  },
  {
   "cell_type": "markdown",
   "id": "80273dc7",
   "metadata": {},
   "source": [
    "*My name is Paul Hyden*"
   ]
  },
  {
   "cell_type": "markdown",
   "id": "63f741b4",
   "metadata": {},
   "source": [
    "My name is `Paul Hyden`"
   ]
  },
  {
   "cell_type": "markdown",
   "id": "2e8acf5e",
   "metadata": {},
   "source": [
    "<a href=\"https://github.com/Paulhy13\"> This link is to Paul Hyden's Github</a>"
   ]
  },
  {
   "cell_type": "markdown",
   "id": "2cb9f264",
   "metadata": {},
   "source": [
    "![Bellarmine Knight](data:image/jpeg;base64,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)"
   ]
  },
  {
   "cell_type": "code",
   "execution_count": null,
   "id": "4ac18336",
   "metadata": {},
   "outputs": [],
   "source": []
  }
 ],
 "metadata": {
  "kernelspec": {
   "display_name": "Python 3 (ipykernel)",
   "language": "python",
   "name": "python3"
  },
  "language_info": {
   "codemirror_mode": {
    "name": "ipython",
    "version": 3
   },
   "file_extension": ".py",
   "mimetype": "text/x-python",
   "name": "python",
   "nbconvert_exporter": "python",
   "pygments_lexer": "ipython3",
   "version": "3.9.13"
  }
 },
 "nbformat": 4,
 "nbformat_minor": 5
}
